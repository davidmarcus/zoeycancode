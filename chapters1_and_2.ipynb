{
 "cells": [
  {
   "cell_type": "code",
   "execution_count": 46,
   "metadata": {
    "collapsed": true
   },
   "outputs": [],
   "source": [
    "%matplotlib inline\n",
    "import turtle\n",
    "colors =['red','purple','blue','green','yellow','orange']\n",
    "t = turtle.Pen()\n",
    "turtle.bgcolor('black')\n",
    "for x in range(360):\n",
    "    t.pencolor(colors[x % 6])\n",
    "    t.width(x / 100 + 1)\n",
    "    t.forward(x)\n",
    "    t.left(59)"
   ]
  },
  {
   "cell_type": "code",
   "execution_count": 10,
   "metadata": {
    "collapsed": false
   },
   "outputs": [
    {
     "name": "stdout",
     "output_type": "stream",
     "text": [
      "hello world\n"
     ]
    }
   ],
   "source": [
    "print 'hello world'"
   ]
  },
  {
   "cell_type": "code",
   "execution_count": 15,
   "metadata": {
    "collapsed": false
   },
   "outputs": [
    {
     "name": "stdout",
     "output_type": "stream",
     "text": [
      "what is your name?\n",
      "'zoey'\n",
      "hi, zoey zoey zoey zoey\n"
     ]
    }
   ],
   "source": [
    "name = input('what is your name?\\n')\n",
    "print 'hi,', name,name,name,name"
   ]
  },
  {
   "cell_type": "code",
   "execution_count": 18,
   "metadata": {
    "collapsed": false
   },
   "outputs": [
    {
     "name": "stdout",
     "output_type": "stream",
     "text": [
      "please enter a adjective\n",
      "'clean'\n",
      "please enter a noun\n",
      "'fairy door'\n",
      "please enter a verb ending in ed\n",
      "'fed'\n",
      "the clean fairy door fed over the lazy brown dog\n"
     ]
    }
   ],
   "source": [
    "adjective=input('please enter a adjective\\n')\n",
    "noun=input('please enter a noun\\n')\n",
    "verb=input('please enter a verb ending in ed\\n')\n",
    "print 'the',adjective,noun,verb,'over the lazy brown dog'"
   ]
  },
  {
   "cell_type": "code",
   "execution_count": 61,
   "metadata": {
    "collapsed": true
   },
   "outputs": [],
   "source": [
    "turtle.clearscreen()"
   ]
  },
  {
   "cell_type": "code",
   "execution_count": 62,
   "metadata": {
    "collapsed": true
   },
   "outputs": [],
   "source": [
    "import turtle\n",
    "t = turtle.Pen()\n",
    "for x in range(100):\n",
    "    t.forward(2*x)\n",
    "    t.left(90)\n"
   ]
  },
  {
   "cell_type": "code",
   "execution_count": 59,
   "metadata": {
    "collapsed": true
   },
   "outputs": [],
   "source": [
    "turtle.clearscreen()"
   ]
  },
  {
   "cell_type": "code",
   "execution_count": 50,
   "metadata": {
    "collapsed": false
   },
   "outputs": [],
   "source": [
    "import random\n",
    "t = turtle.Pen()\n",
    "t.width(4)\n",
    "colors = ['red', 'green', 'blue', 'pink', 'yellow', 'orange']\n",
    "for x in range(50):\n",
    "    turtle.bgcolor(colors[random.randint(0, 5)])\n",
    "    t.pencolor(colors[random.randint(0, 5)])\n",
    "    t.forward(random.randint(0, 100))\n",
    "    t.left(random.randint(0, 359))"
   ]
  },
  {
   "cell_type": "code",
   "execution_count": 42,
   "metadata": {
    "collapsed": false
   },
   "outputs": [
    {
     "data": {
      "text/plain": [
       "1"
      ]
     },
     "execution_count": 42,
     "metadata": {},
     "output_type": "execute_result"
    }
   ],
   "source": [
    "import random\n",
    "random.randint(0, 10)"
   ]
  },
  {
   "cell_type": "code",
   "execution_count": 60,
   "metadata": {
    "collapsed": true
   },
   "outputs": [],
   "source": [
    "t = turtle.Pen()\n",
    "t.pencolor('brown')\n",
    "t.forward(100)\n",
    "t.right(90)\n",
    "t.forward(100)\n",
    "t.right(90)\n",
    "t.forward(100)\n",
    "t.right(90)\n",
    "t.forward(100)"
   ]
  }
 ],
 "metadata": {
  "kernelspec": {
   "display_name": "Python 2",
   "language": "python",
   "name": "python2"
  },
  "language_info": {
   "codemirror_mode": {
    "name": "ipython",
    "version": 2
   },
   "file_extension": ".py",
   "mimetype": "text/x-python",
   "name": "python",
   "nbconvert_exporter": "python",
   "pygments_lexer": "ipython2",
   "version": "2.7.6"
  }
 },
 "nbformat": 4,
 "nbformat_minor": 0
}
